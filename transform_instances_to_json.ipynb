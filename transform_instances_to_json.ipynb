{
 "cells": [
  {
   "cell_type": "code",
   "execution_count": 1,
   "id": "3759cca4",
   "metadata": {},
   "outputs": [],
   "source": [
    "from helper_classes import Instance \n",
    "from helper_functions import transform_instances\n",
    "import pandas as pd\n",
    "import os\n",
    "import random"
   ]
  },
  {
   "cell_type": "code",
   "execution_count": 5,
   "id": "db16f745",
   "metadata": {},
   "outputs": [
    {
     "name": "stdout",
     "output_type": "stream",
     "text": [
      "Creating instances...\n",
      "Finished.\n"
     ]
    }
   ],
   "source": [
    "#Alternative create csv for dataframes to avoid loading all instances every time\n",
    "def main(): \n",
    "    instances_data = []\n",
    "    items = pd.DataFrame()\n",
    "    single_demands = pd.DataFrame()\n",
    "    aggregate_demands = pd.DataFrame()\n",
    "    customers = pd.DataFrame()\n",
    "    for folder_path in [\"Gendreau_et_al_2006\"]:\n",
    "        for file_name in os.listdir(folder_path):\n",
    "            if file_name.endswith(\".txt\"):\n",
    "                if file_name != \"Overview.txt\":\n",
    "                    file_path = os.path.join(folder_path, file_name)\n",
    "                    instance = Instance(file_path, standardize = False, analyze_one_source=False)\n",
    "                    instances_data.append(instance.to_dict())\n",
    "                    items = pd.concat([items,instance.items])\n",
    "                    single_demands = pd.concat([single_demands,instance.demands])\n",
    "                    aggregate_demands = pd.concat([aggregate_demands,instance.aggregated_demands])\n",
    "                    customers = pd.concat([customers,instance.customers])\n",
    "\n",
    "    # Convert list to DataFrame\n",
    "    df = pd.DataFrame(instances_data)\n",
    "\n",
    "    random.seed(8)\n",
    "    file_path = r\"C:\\Users\\mahu123a\\Documents\\3l-cvrp\\data\\input\\3l-cvrp\\gendreau\"\n",
    "    #random.seed(4) old run!\n",
    "    for instance in df[\"Instance Name\"]:\n",
    "        transform_instances(instance, df, aggregate_demands, single_demands, items, customers, file_path = file_path)\n",
    "\n",
    "if __name__ == \"__main__\":\n",
    "    print(\"Creating instances...\")\n",
    "    main()\n",
    "    print(\"Finished.\")\n",
    "\n"
   ]
  }
 ],
 "metadata": {
  "kernelspec": {
   "display_name": "work",
   "language": "python",
   "name": "python3"
  },
  "language_info": {
   "codemirror_mode": {
    "name": "ipython",
    "version": 3
   },
   "file_extension": ".py",
   "mimetype": "text/x-python",
   "name": "python",
   "nbconvert_exporter": "python",
   "pygments_lexer": "ipython3",
   "version": "3.11.13"
  }
 },
 "nbformat": 4,
 "nbformat_minor": 5
}
