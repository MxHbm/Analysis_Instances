{
 "cells": [
  {
   "cell_type": "code",
   "execution_count": 1,
   "id": "1d54e56b",
   "metadata": {},
   "outputs": [],
   "source": [
    "from helper_classes import Instance \n",
    "import pandas as pd\n",
    "import os\n",
    "import random"
   ]
  },
  {
   "cell_type": "code",
   "execution_count": 2,
   "id": "feaac008",
   "metadata": {},
   "outputs": [
    {
     "name": "stdout",
     "output_type": "stream",
     "text": [
      "Creating instances...\n",
      "Finished.\n"
     ]
    }
   ],
   "source": [
    "#Alternative create csv for dataframes to avoid loading all instances every time\n",
    "def main(): \n",
    "    instances_data = []\n",
    "    items = pd.DataFrame()\n",
    "    single_demands = pd.DataFrame()\n",
    "    aggregate_demands = pd.DataFrame()\n",
    "    customers = pd.DataFrame()\n",
    "    for folder_path in [\"Gendreau_et_al_2006\"]:\n",
    "        for file_name in os.listdir(folder_path):\n",
    "            if file_name.endswith(\".txt\"):\n",
    "                if file_name != \"Overview.txt\":\n",
    "                    file_path = os.path.join(folder_path, file_name)\n",
    "                    instance = Instance(file_path, standardize = False, analyze_one_source=False)\n",
    "                    instances_data.append(instance.to_dict())\n",
    "                    items = pd.concat([items,instance.items])\n",
    "                    single_demands = pd.concat([single_demands,instance.demands])\n",
    "                    aggregate_demands = pd.concat([aggregate_demands,instance.aggregated_demands])\n",
    "                    customers = pd.concat([customers,instance.customers])\n",
    "\n",
    "    # Convert list to DataFrame\n",
    "    df = pd.DataFrame(instances_data)\n",
    "    prefix =\"gendreau\"\n",
    "\n",
    "\n",
    "    file_path = r\"C:\\Users\\mahu123a\\Documents\\train_classifier_model\\csv_datasets\"\n",
    "\n",
    "    df.to_csv(os.path.join(file_path, f\"{prefix}_instance_data.csv\"), index=False)\n",
    "    aggregate_demands.to_csv(os.path.join(file_path, f\"{prefix}_agg_demand.csv\"), index=False)\n",
    "    single_demands.to_csv(os.path.join(file_path, f\"{prefix}_single_demands.csv\"), index=False)\n",
    "    items.to_csv(os.path.join(file_path, f\"{prefix}_items.csv\"), index=False)\n",
    "    customers.to_csv(os.path.join(file_path, f\"{prefix}_customers.csv\"), index=False)\n",
    "    \n",
    "\n",
    "if __name__ == \"__main__\":\n",
    "    print(\"Creating instances...\")\n",
    "    main()\n",
    "    print(\"Finished.\")\n",
    "\n"
   ]
  }
 ],
 "metadata": {
  "kernelspec": {
   "display_name": "work",
   "language": "python",
   "name": "python3"
  },
  "language_info": {
   "codemirror_mode": {
    "name": "ipython",
    "version": 3
   },
   "file_extension": ".py",
   "mimetype": "text/x-python",
   "name": "python",
   "nbconvert_exporter": "python",
   "pygments_lexer": "ipython3",
   "version": "3.11.13"
  }
 },
 "nbformat": 4,
 "nbformat_minor": 5
}
