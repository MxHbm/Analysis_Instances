{
 "cells": [
  {
   "cell_type": "code",
   "execution_count": 1,
   "metadata": {},
   "outputs": [
    {
     "name": "stderr",
     "output_type": "stream",
     "text": [
      "/opt/homebrew/anaconda3/envs/work/lib/python3.11/site-packages/pandas/core/arrays/masked.py:60: UserWarning: Pandas requires version '1.3.6' or newer of 'bottleneck' (version '1.3.5' currently installed).\n",
      "  from pandas.core import (\n"
     ]
    }
   ],
   "source": [
    "import os\n",
    "import pandas as pd\n",
    "import numpy as np\n",
    "import plotly.express as px\n",
    "import random\n",
    "import itertools\n",
    "\n",
    "from helper_classes import Instance \n",
    "from helper_functions import *"
   ]
  },
  {
   "cell_type": "code",
   "execution_count": 2,
   "metadata": {},
   "outputs": [],
   "source": [
    "instances_data = []\n",
    "items = pd.DataFrame()\n",
    "single_demands = pd.DataFrame()\n",
    "aggregate_demands = pd.DataFrame()\n",
    "for folder_path in [\"Krebs_Ehmke_Koch_2021\"]:\n",
    "    for file_name in os.listdir(folder_path):\n",
    "        if file_name.endswith(\".txt\"):\n",
    "            if file_name != \"Overview.txt\":\n",
    "                file_path = os.path.join(folder_path, file_name)\n",
    "                instance = Instance(file_path, standardize = False)\n",
    "                instances_data.append(instance.to_dict())\n",
    "                items = pd.concat([items,instance.items])\n",
    "                single_demands = pd.concat([single_demands,instance.demands])\n",
    "                aggregate_demands = pd.concat([aggregate_demands,instance.aggregated_demands])\n",
    "\n",
    "# Convert list to DataFrame\n",
    "df = pd.DataFrame(instances_data)"
   ]
  },
  {
   "cell_type": "code",
   "execution_count": null,
   "metadata": {},
   "outputs": [
    {
     "name": "stdout",
     "output_type": "stream",
     "text": [
      "Created instances:  514\n"
     ]
    }
   ],
   "source": [
    "'''random.seed(4)\n",
    "filtered_instance_data = random.choices(df[\"Instance Name\"], k = 1)\n",
    "created_instances = 0\n",
    "\n",
    "for instance in filtered_instance_data: \n",
    "    #print(instance)\n",
    "    filtered_instance = df[df[\"Instance Name\"] == instance]\n",
    "    filtered_agg_demands = aggregate_demands[aggregate_demands[\"Instance Name\"] == instance]\n",
    "    filtered_single_demans = single_demands[single_demands[\"Instance Name\"] == instance]\n",
    "    filtered_items = items[items[\"Instance Name\"] == instance]\n",
    "    max_value = df[df[\"Instance Name\"] == instance][\"Number of Customers\"].values[0]\n",
    "    #print(\"Max value: \", max_value)\n",
    "    ub_bound = max(int(filtered_instance[\"Number of Customers\"].values[0]/np.ceil(filtered_instance[\"Vehicle LB Volume\"].values[0])), int(filtered_instance[\"Number of Customers\"].values[0]/np.ceil(filtered_instance[\"Vehicle LB Mass\"].values[0])))\n",
    "    #print(\"Upper bound: \", ub_bound)\n",
    "    lb_bound = int(0.25 * ub_bound)\n",
    "    numbers = list(range(1,max_value+1))\n",
    "    range_num = int(np.floor((ub_bound - lb_bound)))\n",
    "    for i in range(range_num):\n",
    "        random.seed(i)\n",
    "        num_customers = int(random.uniform(lb_bound, ub_bound))\n",
    "        #print(num_customers)\n",
    "\n",
    "        selected_permutation = int(num_customers**0.5)\n",
    "        for j in range(num_customers):\n",
    "            perm = random.sample(numbers, num_customers)\n",
    "            \n",
    "            with open(f\"Train_data/{instance}_{num_customers}_{j}.txt\", \"w\") as file:\n",
    "                # Erste Gruppe\n",
    "                for column in [\"Number of Customers\", \"Number of Item Types\", \"Number of Vehicles\", \"Time Windows\"]:\n",
    "                    value = filtered_instance[column].values[0]\n",
    "                    file.write(f\"{column:<30}{value:>10}\\n\")  # 30 Zeichen linksbündig für Namen, 10 Zeichen rechtsbündig für Zahl\n",
    "                \n",
    "                file.write(\"\\nVEHICLE\\n\")\n",
    "                \n",
    "                # Zweite Gruppe\n",
    "                for column in [\"Vehicle Capacity\", \"Cargo Length\", \"Cargo Width\", \"Cargo Height\", \"Cargo Volume\"]:\n",
    "                    value = filtered_instance[column].values[0]\n",
    "                    file.write(f\"{column:<30}{value:>10}\\n\")\n",
    "\n",
    "                file.write(\"\\nITEMS\\n\")\n",
    "                file.write(\"Type\\tLength\\tWidth\\tHeight\\tMass\\tFragility\\tVolume\\n\")\n",
    "                for itemType in range(len(filtered_items)):\n",
    "                    file.write(f\"{filtered_items.iloc[itemType]['Type']}\\t{filtered_items.iloc[itemType]['Length']}\\t{filtered_items.iloc[itemType]['Width']}\\t{filtered_items.iloc[itemType]['Height']}\\t{filtered_items.iloc[itemType]['Mass']}\\t{filtered_items.iloc[itemType]['Fragility']}\\t{filtered_items.iloc[itemType]['Volume']}\\n\")\n",
    "\n",
    "\n",
    "                \n",
    "                file.write(\"\\n\\nROUTE and DEMAND\\n\")\n",
    "                for customer in perm:\n",
    "                    file.write(f\"{customer}\\t\")\n",
    "                    filtered_filtered = filtered_single_demans[filtered_single_demans[\"Customer ID\"] == str(customer)]\n",
    "                    for demand in range(len(filtered_filtered)):\n",
    "                        file.write(f\"{filtered_filtered.iloc[demand]['Type']}\\t{filtered_filtered.iloc[demand]['Quantity']}\\t\")\n",
    "                    file.write(\"\\n\")\n",
    "                                    \n",
    "            created_instances += 1\n",
    "\n",
    "\n",
    "print(\"Created instances: \", created_instances)\n",
    "\n",
    "\n",
    "#With k = 30; 9800 instances are created   \n",
    "'''"
   ]
  }
 ],
 "metadata": {
  "kernelspec": {
   "display_name": "work",
   "language": "python",
   "name": "python3"
  },
  "language_info": {
   "codemirror_mode": {
    "name": "ipython",
    "version": 3
   },
   "file_extension": ".py",
   "mimetype": "text/x-python",
   "name": "python",
   "nbconvert_exporter": "python",
   "pygments_lexer": "ipython3",
   "version": "3.11.4"
  }
 },
 "nbformat": 4,
 "nbformat_minor": 2
}
