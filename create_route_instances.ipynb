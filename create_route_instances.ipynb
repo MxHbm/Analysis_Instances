{
 "cells": [
  {
   "cell_type": "code",
   "execution_count": 4,
   "metadata": {},
   "outputs": [],
   "source": [
    "from helper_classes import Instance \n",
    "from helper_functions import *\n",
    "import json"
   ]
  },
  {
   "cell_type": "code",
   "execution_count": 5,
   "metadata": {},
   "outputs": [],
   "source": [
    "#Alternative create csv for dataframes to avoid loading all instances every time\n",
    "\n",
    "instances_data = []\n",
    "items = pd.DataFrame()\n",
    "single_demands = pd.DataFrame()\n",
    "aggregate_demands = pd.DataFrame()\n",
    "customers = pd.DataFrame()\n",
    "for folder_path in [\"Krebs_Ehmke_Koch_2021\"]:\n",
    "    for file_name in os.listdir(folder_path):\n",
    "        if file_name.endswith(\".txt\"):\n",
    "            if file_name != \"Overview.txt\":\n",
    "                file_path = os.path.join(folder_path, file_name)\n",
    "                instance = Instance(file_path, standardize = False, analyze_one_source=False)\n",
    "                instances_data.append(instance.to_dict())\n",
    "                items = pd.concat([items,instance.items])\n",
    "                single_demands = pd.concat([single_demands,instance.demands])\n",
    "                aggregate_demands = pd.concat([aggregate_demands,instance.aggregated_demands])\n",
    "                customers = pd.concat([customers,instance.customers])\n",
    "\n",
    "# Convert list to DataFrame\n",
    "df = pd.DataFrame(instances_data)"
   ]
  },
  {
   "cell_type": "code",
   "execution_count": 6,
   "metadata": {},
   "outputs": [
    {
     "name": "stderr",
     "output_type": "stream",
     "text": [
      "c:\\Users\\mahu123a\\Documents\\Analysis_Instances\\helper_functions.py:23: SettingWithCopyWarning: \n",
      "A value is trying to be set on a copy of a slice from a DataFrame\n",
      "\n",
      "See the caveats in the documentation: https://pandas.pydata.org/pandas-docs/stable/user_guide/indexing.html#returning-a-view-versus-a-copy\n",
      "  filtered_customers.drop(columns=[\"Instance Name\", \"Folder Name\"], inplace=True)\n"
     ]
    },
    {
     "name": "stdout",
     "output_type": "stream",
     "text": [
      "Created instances: 1336\n"
     ]
    }
   ],
   "source": [
    "random.seed(4)\n",
    "instances = random.choices(df[\"Instance Name\"], k=1)\n",
    "total_instances = sum(\n",
    "    generate_instances(instance, df, aggregate_demands, single_demands, items, customers, False)\n",
    "    for instance in instances\n",
    ")\n",
    "print(f\"Created instances: {total_instances}\")"
   ]
  }
 ],
 "metadata": {
  "kernelspec": {
   "display_name": "foster",
   "language": "python",
   "name": "python3"
  },
  "language_info": {
   "codemirror_mode": {
    "name": "ipython",
    "version": 3
   },
   "file_extension": ".py",
   "mimetype": "text/x-python",
   "name": "python",
   "nbconvert_exporter": "python",
   "pygments_lexer": "ipython3",
   "version": "3.10.13"
  }
 },
 "nbformat": 4,
 "nbformat_minor": 2
}
